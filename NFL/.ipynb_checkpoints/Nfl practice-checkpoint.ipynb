{
 "cells": [
  {
   "cell_type": "markdown",
   "metadata": {
    "_cell_guid": "38108510-9e82-4b61-a278-07ce5ce08bdf",
    "_uuid": "cd653f4d-0cd1-4b02-8a00-538f60aa9651"
   },
   "source": [
    "import numpy as np\n",
    "import pandas as pd\n",
    "import matplotlib.pyplot as plt\n",
    "import matplotlib as mpl\n",
    "import seaborn as sns\n",
    "import datetime\n",
    "import tqdm\n",
    "import re\n",
    "\n",
    "from string import punctuation\n",
    "from sklearn.ensemble import RandomForestRegressor\n",
    "from sklearn.preprocessing import StandardScaler\n",
    "\n",
    "import keras\n",
    "from keras.callbacks import ReduceLROnPlateau, ModelCheckpoint, EarlyStopping\n",
    "from keras.utils import plot_model\n",
    "import keras.backend as K\n",
    "import tensorflow as tf\n",
    "\n",
    "from kaggle.competitions import nflrush\n",
    "\n",
    "sns.set_style('darkgrid')\n",
    "mpl.rcParams['figure.figsize'] = [15, 10]\n",
    "pd.set_option('max_columns', 100)"
   ]
  },
  {
   "cell_type": "markdown",
   "metadata": {
    "_cell_guid": "99383d4a-bc16-4185-9fc7-e3d08c6fb319",
    "_uuid": "2bf450d7-3a91-4168-b60c-aefc9da6a3a9"
   },
   "source": [
    "env = nflrush.make_env()"
   ]
  },
  {
   "cell_type": "markdown",
   "metadata": {
    "_cell_guid": "774bc357-ea2c-44c8-b482-67099a67ed2a",
    "_uuid": "2f8ebd27-2869-4810-b154-cd6a52ff8770"
   },
   "source": [
    "train = pd.read_csv('../input/nfl-big-data-bowl-2020/train.csv', dtype={'WindSpeed': 'object'})"
   ]
  },
  {
   "cell_type": "markdown",
   "metadata": {
    "_cell_guid": "7d44b678-6f16-49b1-8664-113fe154894b",
    "_uuid": "0f0c72ad-50fd-4421-9a52-da212bc0287e"
   },
   "source": [
    "train.head()"
   ]
  },
  {
   "cell_type": "markdown",
   "metadata": {
    "_cell_guid": "ed29f53e-0465-44a9-90bd-14f88ceb3bb3",
    "_uuid": "415f5a46-e049-467c-bf95-3e596b94e86b"
   },
   "source": [
    "train['DefendersInTheBox_vs_Distance'] = train['DefendersInTheBox'] / train['Distance']"
   ]
  },
  {
   "cell_type": "markdown",
   "metadata": {
    "_cell_guid": "c56f7069-988c-46bb-9774-769fa48d09e8",
    "_uuid": "bfb3a693-0c6a-4248-af7a-2713f794c0c0"
   },
   "source": [
    "cat_features = []\n",
    "for col in train.columns:\n",
    "    if train[col].dtype =='object':\n",
    "        cat_features.append((col, len(train[col].unique())))"
   ]
  },
  {
   "cell_type": "markdown",
   "metadata": {
    "_cell_guid": "b18778c9-b887-4d96-8368-b0397cca72c6",
    "_uuid": "5f6f2365-06e4-4cad-8b6b-1b8a02045c9d"
   },
   "source": [
    "train['PlayId'].value_counts()"
   ]
  },
  {
   "cell_type": "markdown",
   "metadata": {
    "_cell_guid": "7190a1a2-bf8c-4370-a11e-295ec36df089",
    "_uuid": "4fd2e006-5089-4fd7-a83e-b95d709372f1"
   },
   "source": [
    "train['Yards'].describe()"
   ]
  },
  {
   "cell_type": "markdown",
   "metadata": {
    "_cell_guid": "ccb7b3e6-52dd-4e12-a432-d1df32e1e32e",
    "_uuid": "d6753276-b9d2-461b-9dbf-807a00efdd94"
   },
   "source": [
    "ax= sns.distplot(train['Yards'])\n",
    "plt.vlines(train['Yards'].mean(),\n",
    "           plt.ylim()[0],\n",
    "           plt.ylim()[1],\n",
    "           color='r',\n",
    "           linestyles='--'\n",
    "          )\n",
    "plt.text(train['Yards'].mean()-16,\n",
    "         plt.ylim()[1]-0.01,\n",
    "         'Mean Yards',\n",
    "         size=15,\n",
    "         color='r'\n",
    "        )\n",
    "plt.title('Distribution of Yards', size=16)\n",
    "plt.show()"
   ]
  },
  {
   "cell_type": "markdown",
   "metadata": {
    "_cell_guid": "6e2edd8c-277a-47f2-979d-0e1029ce2697",
    "_uuid": "8eb39dc6-25a3-4fd0-851b-7e66e2ef5864"
   },
   "source": [
    "train['StadiumType'].value_counts()"
   ]
  },
  {
   "cell_type": "markdown",
   "metadata": {
    "_cell_guid": "7365327a-be9b-4da6-9740-53a31a09d006",
    "_uuid": "6d29d8c5-0c54-4b16-a835-76d0d6b6a6f9"
   },
   "source": [
    "def clean_StadiumType(txt):\n",
    "    if pd.isna(txt):\n",
    "        return np.nan\n",
    "    txt = txt.lower()\n",
    "    txt = ''.join([c for c in txt if c not in punctuation])\n",
    "    txt = re.sub(' +', ' ', txt)\n",
    "    txt = txt.strip()\n",
    "    txt = txt.replace('outside', 'outdoor')\n",
    "    txt = txt.replace('outdor', 'outdoor')\n",
    "    txt = txt.replace('outddors', 'outdoor')\n",
    "    txt = txt.replace('outdoors', 'outdoor')\n",
    "    txt = txt.replace('oudoor', 'outdoor')\n",
    "    txt = txt.replace('indoors', 'indoor')\n",
    "    txt = txt.replace('ourdoor', 'outdoor')\n",
    "    txt = txt.replace('retractable', 'rtr.')\n",
    "    return txt"
   ]
  },
  {
   "cell_type": "markdown",
   "metadata": {
    "_cell_guid": "399803bd-6a0b-4117-b071-270d8648bab0",
    "_uuid": "fcf2ee76-b843-4003-8805-bb4c5baa7e63"
   },
   "source": [
    "train['StadiumType'] = train['StadiumType'].apply(clean_StadiumType)"
   ]
  },
  {
   "cell_type": "markdown",
   "metadata": {
    "_cell_guid": "500e9f45-d8da-4682-af81-70dfb5ec664f",
    "_uuid": "0593b161-340c-4c2d-a261-011fa858750d"
   },
   "source": [
    "def transform_StadiumType(txt):\n",
    "    if pd.isna(txt):\n",
    "        return np.nan\n",
    "    if 'outdoor' in txt or 'open' in txt:\n",
    "        return 1\n",
    "    if 'indoor' in txt or 'closed' in txt:\n",
    "        return 0\n",
    "    return np.nan"
   ]
  },
  {
   "cell_type": "markdown",
   "metadata": {
    "_cell_guid": "55a2dc87-ac26-4c09-988f-ceebc64108d5",
    "_uuid": "c944f968-2be4-42ad-a668-18e5b86778c1"
   },
   "source": [
    "train['StadiumType'] = train['StadiumType'].apply(transform_StadiumType)"
   ]
  },
  {
   "cell_type": "markdown",
   "metadata": {
    "_cell_guid": "d343d7cc-6622-443f-bdc8-6af144c8078d",
    "_uuid": "0501c18b-3d3e-4b79-8eb1-fbeae3c67ec8"
   },
   "source": [
    "Turf = {'Field Turf':'Artificial', 'A-Turf Titan':'Artificial', 'Grass':'Natural', 'UBU Sports Speed S5-M':'Artificial', \n",
    "        'Artificial':'Artificial', 'DD GrassMaster':'Artificial', 'Natural Grass':'Natural', \n",
    "        'UBU Speed Series-S5-M':'Artificial', 'FieldTurf':'Artificial', 'FieldTurf 360':'Artificial', 'Natural grass':'Natural', 'grass':'Natural', \n",
    "        'Natural':'Natural', 'Artifical':'Artificial', 'FieldTurf360':'Artificial', 'Naturall Grass':'Natural', 'Field turf':'Artificial', \n",
    "        'SISGrass':'Artificial', 'Twenty-Four/Seven Turf':'Artificial', 'natural grass':'Natural'} \n",
    "\n",
    "train['Turf'] = train['Turf'].map(Turf)\n",
    "train['Turf'] = train['Turf'] == 'Natural'"
   ]
  },
  {
   "cell_type": "markdown",
   "metadata": {
    "_cell_guid": "8061273c-cd85-4766-8f6a-474050eb987c",
    "_uuid": "a89d8348-3702-48ae-8fcd-1dea0356b56d"
   },
   "source": [
    "train[(train['PossessionTeam'] != train['HomeTeamAbbr']) & (train['PossessionTeam'] != train['VisitorTeamAbbr'])][['PossessionTeam', 'HomeTeamAbbr', 'VisitorTeamAbbr']]"
   ]
  },
  {
   "cell_type": "markdown",
   "metadata": {
    "_cell_guid": "b8328238-da45-4b51-9587-414675390fb3",
    "_uuid": "950c891e-47eb-4e73-aed3-43cb934b4c91"
   },
   "source": [
    "sorted(train['HomeTeamAbbr'].unique()) == sorted(train['VisitorTeamAbbr'].unique())"
   ]
  },
  {
   "cell_type": "markdown",
   "metadata": {
    "_cell_guid": "2879c228-f243-40f3-be72-39bb118489f1",
    "_uuid": "389a4871-c206-48e7-a05f-ced37571b4c5"
   },
   "source": [
    "for x, y in zip(sorted(train['PossessionTeam'].unique()), sorted(train['HomeTeamAbbr'].unique())):\n",
    "    if x != y:\n",
    "        print(x, y)"
   ]
  },
  {
   "cell_type": "markdown",
   "metadata": {
    "_cell_guid": "bf1d82bf-4451-429d-b276-c0c25d34b976",
    "_uuid": "8f93e23f-aaae-4c2d-a537-edc8e292d13c"
   },
   "source": [
    "map_abbr = {'ARI': 'ARZ', 'BAL': 'BLT', 'CLE': 'CLV', 'HOU': 'HST'}\n",
    "for x in train['PossessionTeam'].unique():\n",
    "    map_abbr[x] = x"
   ]
  },
  {
   "cell_type": "markdown",
   "metadata": {
    "_cell_guid": "93cfe4ac-c862-4d1d-8261-a4f64da60d9a",
    "_uuid": "ec2a7fbe-c20a-44a8-9fd4-810f647b1b19"
   },
   "source": [
    "train['PossessionTeam'] = train['PossessionTeam'].map(map_abbr)\n",
    "train['HomeTeamAbbr'] = train['HomeTeamAbbr'].map(map_abbr)\n",
    "train['VisitorTeamAbbr'] = train['VisitorTeamAbbr'].map(map_abbr)"
   ]
  },
  {
   "cell_type": "markdown",
   "metadata": {
    "_cell_guid": "220b223e-eb51-4041-9d62-5e671148d114",
    "_uuid": "7ebd6df7-8731-440e-926c-9e8f239cc934"
   },
   "source": [
    "train['HomePossesion'] = train['PossessionTeam'] == train['HomeTeamAbbr']"
   ]
  },
  {
   "cell_type": "markdown",
   "metadata": {
    "_cell_guid": "6ae9b703-7dc7-410b-99ad-34c4d2793caf",
    "_uuid": "99ab4408-aa9c-44df-9653-e7cad529201a"
   },
   "source": [
    "train['Field_eq_Possession'] = train['FieldPosition'] == train['PossessionTeam']\n",
    "train['HomeField'] = train['FieldPosition'] == train['HomeTeamAbbr']"
   ]
  },
  {
   "cell_type": "markdown",
   "metadata": {},
   "source": [
    "train['HomeField'].value_counts()"
   ]
  },
  {
   "cell_type": "markdown",
   "metadata": {
    "_cell_guid": "412c6807-6c0c-41b4-a49a-769b257e2a84",
    "_uuid": "3bd6aa00-f395-427d-87d2-c8bf24cd15ae"
   },
   "source": [
    "offense_type = train['OffenseFormation'].unique()\n",
    "train['OffenseFormation'].value_counts()"
   ]
  },
  {
   "cell_type": "markdown",
   "metadata": {
    "_cell_guid": "f254b18c-a729-45e3-80f7-786144cea7ce",
    "_uuid": "6c367a9f-13c9-4058-a1fa-4bc964d4036d"
   },
   "source": [
    "train = pd.concat([train.drop(['OffenseFormation'], axis=1), pd.get_dummies(train['OffenseFormation'], prefix='Formation')], axis=1)"
   ]
  },
  {
   "cell_type": "markdown",
   "metadata": {
    "_cell_guid": "4ba01eda-61d3-4364-b22d-fa528036b287",
    "_uuid": "66e028f8-1dad-4dff-b50a-7e1e8d8c2ec3"
   },
   "source": [
    "train['GameClock'].value_counts()"
   ]
  },
  {
   "cell_type": "markdown",
   "metadata": {
    "_cell_guid": "5980e52d-90ed-469b-a342-86eb1ff09cd2",
    "_uuid": "aacefb34-f201-4e96-a556-4cc05c386931"
   },
   "source": [
    "def GameClock_to_Second(txt):\n",
    "    txt = txt.split(':')\n",
    "    txt = int(txt[0]) * 60 + int(txt[1]) + int(txt[2]) / 60\n",
    "    return txt"
   ]
  },
  {
   "cell_type": "markdown",
   "metadata": {
    "_cell_guid": "cd55e45c-437a-45ae-8d1c-44d3060638a3",
    "_uuid": "8565a238-87b2-4c5c-b089-f85f4e33e357"
   },
   "source": [
    "train['GameClock'] = train['GameClock'].apply(GameClock_to_Second)"
   ]
  },
  {
   "cell_type": "markdown",
   "metadata": {
    "_cell_guid": "6ea267cd-b8b6-4581-a75a-e9abeb864324",
    "_uuid": "2f32fd6e-3e17-416c-9dec-4cea4b586c3b"
   },
   "source": [
    "sns.distplot(train['GameClock']);"
   ]
  },
  {
   "cell_type": "markdown",
   "metadata": {
    "_cell_guid": "3538f7a1-0dcd-475b-b842-52518bcad035",
    "_uuid": "6746bdcc-fd38-4b57-85a2-89bbf90607fe"
   },
   "source": [
    "train['PlayerHeight'] = train['PlayerHeight'] \\\n",
    "    .apply(lambda x: int(x.split('-')[0])*12 + int(x.split('-')[1]))"
   ]
  },
  {
   "cell_type": "markdown",
   "metadata": {
    "_cell_guid": "03a15951-540a-4dc4-8312-f362da71143c",
    "_uuid": "6fb402fd-5450-40cd-b43a-05f9cc7ef24f"
   },
   "source": [
    "train['PlayerBMI'] = 703*(train['PlayerWeight']/(train['PlayerHeight'])**2)"
   ]
  },
  {
   "cell_type": "markdown",
   "metadata": {
    "_cell_guid": "c973ee27-b90e-46cb-8b1e-2fd2e34f6032",
    "_uuid": "873612ea-ef8e-450e-9352-c0ca07d5f8b6"
   },
   "source": [
    "train['TimeHandoff']"
   ]
  },
  {
   "cell_type": "markdown",
   "metadata": {
    "_cell_guid": "83d9343e-230a-463a-b905-3bd2866f02d6",
    "_uuid": "7f93ff9c-d0f7-4f9b-9b9d-7e4803813744"
   },
   "source": [
    "train['TimeHandoff'] = train['TimeHandoff'].apply(lambda x: datetime.datetime.strptime(x, \"%Y-%m-%dT%H:%M:%S.%fZ\"))\n",
    "train['TimeSnap'] = train['TimeSnap'].apply(lambda x: datetime.datetime.strptime(x, \"%Y-%m-%dT%H:%M:%S.%fZ\"))"
   ]
  },
  {
   "cell_type": "markdown",
   "metadata": {
    "_cell_guid": "b870211c-ebb4-4591-9432-72a7853598e4",
    "_uuid": "2a2f7830-2714-4f73-9b79-b91fad9082b3"
   },
   "source": [
    "train['TimeDelta'] = train.apply(lambda row: (row['TimeHandoff'] - row['TimeSnap']).total_seconds(), axis=1)"
   ]
  },
  {
   "cell_type": "markdown",
   "metadata": {
    "_cell_guid": "0d707b4c-a5c6-421f-a670-40c8e6b1812b",
    "_uuid": "6bc5ead7-c80f-475a-a2de-e646b197b8c3"
   },
   "source": [
    "train['PlayerBirthDate'] = train['PlayerBirthDate'].apply(lambda x: datetime.datetime.strptime(x, \"%m/%d/%Y\"))"
   ]
  },
  {
   "cell_type": "markdown",
   "metadata": {
    "_cell_guid": "59efb789-8661-4590-b230-043c38d48231",
    "_uuid": "f1cf2ab6-283d-4f5a-b8d2-28a9d38471cb"
   },
   "source": [
    "seconds_in_year = 60*60*24*365.25\n",
    "train['PlayerAge'] = train.apply(lambda row: (row['TimeHandoff']-row['PlayerBirthDate']).total_seconds()/seconds_in_year, axis=1)"
   ]
  },
  {
   "cell_type": "markdown",
   "metadata": {
    "_cell_guid": "29c130a3-2368-4c84-9a0b-06183c97f71c",
    "_uuid": "f788d504-bd91-45a8-b0c1-c884ac25360c"
   },
   "source": [
    "train = train.drop(['TimeHandoff', 'TimeSnap', 'PlayerBirthDate'], axis=1)"
   ]
  },
  {
   "cell_type": "markdown",
   "metadata": {
    "_cell_guid": "6256b80c-78a6-4919-9e83-f96b11b73842",
    "_uuid": "578bdc5d-d089-4ced-a5be-2e7dddb57d31"
   },
   "source": [
    "train['WindSpeed'].value_counts()"
   ]
  },
  {
   "cell_type": "markdown",
   "metadata": {
    "_cell_guid": "26be5133-145f-47f7-b19b-a72487a7b6a3",
    "_uuid": "ef07b85e-099a-4b66-b63f-01817d92943f"
   },
   "source": [
    "train['WindSpeed'] = train['WindSpeed'].apply(lambda x: x.lower().replace('mph', '').strip() if not pd.isna(x) else x)"
   ]
  },
  {
   "cell_type": "markdown",
   "metadata": {
    "_cell_guid": "8f373a22-e822-4617-9c14-93f9e3584523",
    "_uuid": "d71b1190-0e5b-4028-900b-69bdef37d287"
   },
   "source": [
    "train['WindSpeed'] = train['WindSpeed'] \\\n",
    "    .apply(lambda x: (int(x.split('-')[0]) + int(x.split('-')[1]))/2 if not pd.isna(x) and '-' in x else x)"
   ]
  },
  {
   "cell_type": "markdown",
   "metadata": {
    "_cell_guid": "d4bcd001-1004-4aa2-8989-67255d2dc285",
    "_uuid": "95d842af-29a9-4a80-9e44-bf2a5e6993d5"
   },
   "source": [
    "train['WindSpeed'] = train['WindSpeed'] \\\n",
    "    .apply(lambda x: (int(x.split()[0]) + int(x.split()[-1]))/2 if not pd.isna(x) and type(x)!=float and 'gusts up to' in x else x)"
   ]
  },
  {
   "cell_type": "markdown",
   "metadata": {
    "_cell_guid": "d14d9405-2347-4d64-a424-cc5dac6b5410",
    "_uuid": "efc801b6-512c-438e-a0c3-cd0079c94aa4"
   },
   "source": [
    "def str_to_float(txt):\n",
    "    try:\n",
    "        return float(txt)\n",
    "    except:\n",
    "        return -1"
   ]
  },
  {
   "cell_type": "markdown",
   "metadata": {
    "_cell_guid": "a3931ece-6fee-4dc3-ab4b-e77d2a6342e1",
    "_uuid": "06ecf810-0c12-40a7-8d6f-9abe4e6b6bc6"
   },
   "source": [
    "train['WindSpeed'] = train['WindSpeed'].apply(str_to_float)"
   ]
  },
  {
   "cell_type": "markdown",
   "metadata": {
    "_cell_guid": "edea537c-7a40-4714-b77c-2d1b7868f61b",
    "_uuid": "45fb93c9-27f6-4585-8310-b53696e62335"
   },
   "source": [
    "train['WindDirection'].value_counts()"
   ]
  },
  {
   "cell_type": "markdown",
   "metadata": {
    "_cell_guid": "6c17601d-bf80-4f57-97aa-699867d62abe",
    "_uuid": "9b60d966-ac96-4068-9166-9716fc8acea0"
   },
   "source": [
    "def clean_WindDirection(txt):\n",
    "    if pd.isna(txt):\n",
    "        return np.nan\n",
    "    txt = txt.lower()\n",
    "    txt = ''.join([c for c in txt if c not in punctuation])\n",
    "    txt = txt.replace('from', '')\n",
    "    txt = txt.replace(' ', '')\n",
    "    txt = txt.replace('north', 'n')\n",
    "    txt = txt.replace('south', 's')\n",
    "    txt = txt.replace('west', 'w')\n",
    "    txt = txt.replace('east', 'e')\n",
    "\n",
    "    return txt"
   ]
  },
  {
   "cell_type": "markdown",
   "metadata": {
    "_cell_guid": "e02b4378-478b-40a5-ab8d-4316402d65a9",
    "_uuid": "56f6557f-3c3d-483b-8811-fd49a1b1ed0f"
   },
   "source": [
    "train['WindDirection'] = train['WindDirection'].apply(clean_WindDirection)"
   ]
  },
  {
   "cell_type": "markdown",
   "metadata": {
    "_cell_guid": "ea9d003a-fd6e-413d-a303-2f6044101252",
    "_uuid": "95264d4f-760f-4496-bbf7-2f99afc4924b"
   },
   "source": [
    "train['WindDirection'].value_counts()"
   ]
  },
  {
   "cell_type": "markdown",
   "metadata": {
    "_cell_guid": "dfb83316-39cc-406e-a36b-b001db7d657e",
    "_uuid": "53252f5e-6a99-4a4e-a280-d7d2077c9bf8"
   },
   "source": [
    "def transform_WindDirection(txt):\n",
    "    if pd.isna(txt):\n",
    "        return np.nan\n",
    "    \n",
    "    if txt=='n':\n",
    "        return 0\n",
    "    if txt=='nne' or txt=='nen':\n",
    "        return 1/8\n",
    "    if txt=='ne':\n",
    "        return 2/8\n",
    "    if txt=='ene' or txt=='nee':\n",
    "        return 3/8\n",
    "    if txt=='e':\n",
    "        return 4/8\n",
    "    if txt=='ese' or txt=='see':\n",
    "        return 5/8\n",
    "    if txt=='se':\n",
    "        return 6/8\n",
    "    if txt=='ses' or txt=='sse':\n",
    "        return 7/8\n",
    "    if txt=='s':\n",
    "        return 8/8\n",
    "    if txt=='ssw' or txt=='sws':\n",
    "        return 9/8\n",
    "    if txt=='sw':\n",
    "        return 10/8\n",
    "    if txt=='sww' or txt=='wsw':\n",
    "        return 11/8\n",
    "    if txt=='w':\n",
    "        return 12/8\n",
    "    if txt=='wnw' or txt=='nww':\n",
    "        return 13/8\n",
    "    if txt=='nw':\n",
    "        return 14/8\n",
    "    if txt=='nwn' or txt=='nnw':\n",
    "        return 15/8\n",
    "    return np.nan"
   ]
  },
  {
   "cell_type": "markdown",
   "metadata": {
    "_cell_guid": "d7a7526c-e98e-4e47-b279-4af3fc8f62a3",
    "_uuid": "534b66ad-f7f3-4413-8995-1ac598c03893"
   },
   "source": [
    "train['WindDirection'] = train['WindDirection'].apply(transform_WindDirection)"
   ]
  },
  {
   "cell_type": "markdown",
   "metadata": {
    "_cell_guid": "73ce6c8b-48ee-41b2-94df-d0684a2fd4af",
    "_uuid": "7bc01d4d-836f-4f00-a400-6406f25adbea"
   },
   "source": [
    "train['PlayDirection'].value_counts()"
   ]
  },
  {
   "cell_type": "markdown",
   "metadata": {
    "_cell_guid": "196cc673-5a39-44db-9fde-984f6321663f",
    "_uuid": "e2e2488d-f73b-45ba-a9bd-c9339c74bd44"
   },
   "source": [
    "train['PlayDirection'] = train['PlayDirection'].apply(lambda x: x.strip() == 'right')"
   ]
  },
  {
   "cell_type": "markdown",
   "metadata": {
    "_cell_guid": "a9c1edb7-4350-4995-8427-7a24e76e1c76",
    "_uuid": "48db33e8-c930-4e56-a555-4a084dc1d012"
   },
   "source": [
    "train['Team'].value_counts()"
   ]
  },
  {
   "cell_type": "markdown",
   "metadata": {
    "_cell_guid": "728de275-608f-42f2-9da2-b002a570d6e6",
    "_uuid": "a9de4bd4-c1a3-496a-a665-9c265cb4bab3"
   },
   "source": [
    "train['Team'] = train['Team'].apply(lambda x: x.strip() == 'home')"
   ]
  },
  {
   "cell_type": "markdown",
   "metadata": {
    "_cell_guid": "98413658-efbf-4c94-9d9b-f54e50db666e",
    "_uuid": "03683851-2031-4f02-9e73-c7a22d716d9b"
   },
   "source": [
    "train['GameWeather'].unique()"
   ]
  },
  {
   "cell_type": "markdown",
   "metadata": {
    "_cell_guid": "7668b060-189f-4630-b928-e877a447107b",
    "_uuid": "3c71fc5c-bacc-4f90-bbc6-67b55a068722"
   },
   "source": [
    "indoor = 'indoor'\n",
    "train['GameWeather'] = train['GameWeather'].str.lower()\n",
    "train['GameWeather'] = train['GameWeather'].apply(lambda x: indoor if not pd.isna(x) and indoor in x else x)\n",
    "train['GameWeather'] = train['GameWeather'].apply(lambda x: x.replace('coudy', 'cloudy') \\\n",
    "                                                      .replace('clouidy', 'cloudy') \\\n",
    "                                                      .replace('party', 'partly') if not pd.isna(x) else x)\n",
    "train['GameWeather'] = train['GameWeather'].apply(lambda x: x.replace('clear and sunny', 'sunny and clear') if not pd.isna(x) else x)\n",
    "train['GameWeather'] = train['GameWeather'].apply(lambda x: x.replace('skies', '').replace('mostly', '').strip() if not pd.isna(x) else x)"
   ]
  },
  {
   "cell_type": "markdown",
   "metadata": {
    "_cell_guid": "a7458780-db0d-4cec-9ad1-3bcd37382bc4",
    "_uuid": "484b4b0e-cb26-4200-80a4-4c7617fa323b"
   },
   "source": [
    "train['GameWeather'].unique()"
   ]
  },
  {
   "cell_type": "markdown",
   "metadata": {
    "_cell_guid": "036834f8-bcf4-4c6c-bef2-84e1a1d411ad",
    "_uuid": "1a8260b9-cf5e-4604-a047-26c2077f46c8"
   },
   "source": [
    "from collections import Counter\n",
    "weather_count = Counter()\n",
    "for weather in train['GameWeather']:\n",
    "    if pd.isna(weather):\n",
    "        continue\n",
    "    for word in weather.split():\n",
    "        weather_count[word] += 1\n",
    "weather_count.most_common()[:15]"
   ]
  },
  {
   "cell_type": "markdown",
   "metadata": {
    "_cell_guid": "f143994a-7692-4083-976b-2ec7fa7c8976",
    "_uuid": "41637c45-c198-44be-bd35-118edad67497"
   },
   "source": [
    "def map_weather(txt):\n",
    "    ans = 1\n",
    "    if pd.isna(txt):\n",
    "        return 0\n",
    "    if 'partly' in txt:\n",
    "        ans *= 0.5\n",
    "    if 'climate controlled' in txt or 'indoor' in txt:\n",
    "        return ans*3\n",
    "    if 'sunny' in txt or 'sun' in txt:\n",
    "        return ans*2\n",
    "    if 'clear' in txt:\n",
    "        return ans\n",
    "    if 'cloudy' in txt:\n",
    "        return -ans\n",
    "    if 'rain' in txt or 'rainy' in txt:\n",
    "        return -2*ans\n",
    "    if 'snow' in txt:\n",
    "        return -3*ans\n",
    "    return 0"
   ]
  },
  {
   "cell_type": "markdown",
   "metadata": {
    "_cell_guid": "9583eefd-82bc-4b85-8f42-f711a0948054",
    "_uuid": "e778e09f-8149-4aaa-86ce-193b5bd09c91"
   },
   "source": [
    "train['GameWeather'] = train['GameWeather'].apply(map_weather)"
   ]
  },
  {
   "cell_type": "markdown",
   "metadata": {
    "_cell_guid": "e5eeefba-76fd-4934-abe8-8a6ffc007271",
    "_uuid": "7daa0412-dcc2-4627-8694-5af746436aa5"
   },
   "source": [
    "train['IsRusher'] = train['NflId'] == train['NflIdRusher']"
   ]
  },
  {
   "cell_type": "markdown",
   "metadata": {
    "_cell_guid": "ec3e8fbc-a002-4a12-9334-2762db9617e0",
    "_uuid": "fc772fef-c47d-4f15-8919-98a44a5ba13a"
   },
   "source": [
    "train.drop(['NflId', 'NflIdRusher'], axis=1, inplace=True)"
   ]
  },
  {
   "cell_type": "markdown",
   "metadata": {
    "_cell_guid": "219c35d8-bff5-47b9-9612-0af71772dff4",
    "_uuid": "3ec4e36c-1a45-4c61-a9fa-1fd0ae498419"
   },
   "source": [
    "train['X'] = train.apply(lambda row: row['X'] if row['PlayDirection'] else 120-row['X'], axis=1)"
   ]
  },
  {
   "cell_type": "markdown",
   "metadata": {
    "_cell_guid": "bdcc67e6-93db-49b9-9a86-dc7b1b1d831e",
    "_uuid": "4a6b4104-8e8b-459e-895f-8e719b450995"
   },
   "source": [
    "def new_orientation(angle, play_direction):\n",
    "    if play_direction == 0:\n",
    "        new_angle = 360.0 - angle\n",
    "        if new_angle == 360.0:\n",
    "            new_angle = 0.0\n",
    "        return new_angle\n",
    "    else:\n",
    "        return angle\n",
    "    \n",
    "train['Orientation'] = train.apply(lambda row: new_orientation(row['Orientation'], row['PlayDirection']), axis=1)\n",
    "train['Dir'] = train.apply(lambda row: new_orientation(row['Dir'], row['PlayDirection']), axis=1)"
   ]
  },
  {
   "cell_type": "markdown",
   "metadata": {
    "_cell_guid": "295adff6-a4ff-4cf7-a71b-b45ddc8a045a",
    "_uuid": "2ba2928e-b6f9-4911-b757-d1b137993cd8"
   },
   "source": [
    "train['YardsLeft'] = train.apply(lambda row: 100 - row['YardLine']\n",
    "# # #                                  if row['PossessionTeam'] == row['FieldPosition']\n",
    "# # #                                  else row['YardLine'], axis=1)"
   ]
  },
  {
   "cell_type": "markdown",
   "metadata": {
    "_cell_guid": "9d4ab574-e4d8-432b-9bda-acdcb76f5e8f",
    "_kg_hide-output": false,
    "_uuid": "b10d1f94-9216-4783-809a-c977a7285c83"
   },
   "source": [
    "train['YardsLeft'] = train.apply(lambda row: 100-row['YardLine'] if row['HomeField'] else row['YardLine'], axis=1)\n",
    "train['YardsLeft'] = train.apply(lambda row: row['YardsLeft'] if row['PlayDirection'] else 100-row['YardsLeft'], axis=1)"
   ]
  },
  {
   "cell_type": "markdown",
   "metadata": {
    "_cell_guid": "b6c198ed-5c0e-42dc-b51c-90c7e969e719",
    "_uuid": "3391abb6-2751-4fee-8fa1-76d198ba83de"
   },
   "source": [
    "((train['YardsLeft']<train['Yards']) | (train['YardsLeft']-100>train['Yards'])).mean()"
   ]
  },
  {
   "cell_type": "markdown",
   "metadata": {
    "_cell_guid": "b2a1094e-760c-4da0-8303-e596cbb8937f",
    "_uuid": "f36437b3-932e-4587-b26e-0ded039bea91"
   },
   "source": [
    "train.drop(train.index[(train['YardsLeft']<train['Yards']) | (train['YardsLeft']-100>train['Yards'])], inplace=True)"
   ]
  },
  {
   "cell_type": "markdown",
   "metadata": {
    "_cell_guid": "96713219-12f1-41bd-93e9-451e10a5be42",
    "_uuid": "dda3ab9a-f190-4d9c-9065-4b34b5496873"
   },
   "source": [
    "train = train.sort_values(by=['PlayId', 'Team', 'IsRusher', 'JerseyNumber']).reset_index()"
   ]
  },
  {
   "cell_type": "markdown",
   "metadata": {
    "_cell_guid": "d360c07b-e9da-4e91-ba26-779d69bac63f",
    "_uuid": "463dffa2-5da4-41d0-b22b-f7ac4e01ebd9"
   },
   "source": [
    "train.drop(['GameId', 'PlayId', 'index', 'IsRusher', 'Team'], axis=1, inplace=True)"
   ]
  },
  {
   "cell_type": "markdown",
   "metadata": {
    "_cell_guid": "395b2957-01d4-4ed9-88aa-cdddb4037a2a",
    "_uuid": "caf63803-7855-4982-b774-4f2f34880ee5"
   },
   "source": [
    "cat_features = []\n",
    "for col in train.columns:\n",
    "    if train[col].dtype =='object':\n",
    "        cat_features.append(col)\n",
    "        \n",
    "train = train.drop(cat_features, axis=1)"
   ]
  },
  {
   "cell_type": "markdown",
   "metadata": {
    "_cell_guid": "be2ef987-e7be-413e-8bdf-4baad417cec5",
    "_uuid": "db431a8e-69e4-41c0-8902-3c24cbbdae09"
   },
   "source": [
    "train.fillna(-999, inplace=True)"
   ]
  },
  {
   "cell_type": "markdown",
   "metadata": {},
   "source": [
    "train.head(100)"
   ]
  },
  {
   "cell_type": "markdown",
   "metadata": {
    "_cell_guid": "e4a3b6d4-0c5f-4ea8-8c70-e5f830e47d4d",
    "_uuid": "422c9068-a4ba-4baa-a5ff-f235ab502594"
   },
   "source": [
    "players_col = []\n",
    "for col in train.columns:\n",
    "    if train[col][:22].std()!=0:\n",
    "        players_col.append(col)"
   ]
  },
  {
   "cell_type": "markdown",
   "metadata": {
    "_cell_guid": "429c27e1-0ff7-442d-9208-493630a6d727",
    "_uuid": "a2e91ecc-76ca-452c-9d51-99d95062ad92"
   },
   "source": [
    "X_train = np.array(train[players_col]).reshape(-1, len(players_col)*22)"
   ]
  },
  {
   "cell_type": "markdown",
   "metadata": {
    "_cell_guid": "8a2c010c-abda-4880-980e-d2ea77e2889c",
    "_uuid": "4b3ae387-0f21-4d86-8012-19e1ba7c2cd5"
   },
   "source": [
    "play_col = train.drop(players_col+['Yards'], axis=1).columns\n",
    "X_play_col = np.zeros(shape=(X_train.shape[0], len(play_col)))\n",
    "for i, col in enumerate(play_col):\n",
    "    X_play_col[:, i] = train[col][::22]"
   ]
  },
  {
   "cell_type": "markdown",
   "metadata": {
    "_cell_guid": "969bfcd0-9cb1-43aa-a0aa-777f0effc878",
    "_uuid": "ba46b939-43ca-4b64-88d2-29eb0b87b923"
   },
   "source": [
    "X_train = np.concatenate([X_train, X_play_col], axis=1)\n",
    "y_train = np.zeros(shape=(X_train.shape[0], 199))\n",
    "for i, yard in enumerate(train['Yards'][::22]):\n",
    "    y_train[i, yard+99:] = np.ones(shape=(1, 100-yard))"
   ]
  },
  {
   "cell_type": "markdown",
   "metadata": {
    "_cell_guid": "8310b69d-58af-4844-b8f7-c86941dce8ee",
    "_uuid": "d9fe74ab-5c71-496b-88ad-28062f995f93"
   },
   "source": [
    "scaler = StandardScaler()\n",
    "X_train = scaler.fit_transform(X_train)"
   ]
  },
  {
   "cell_type": "markdown",
   "metadata": {
    "_cell_guid": "a5357d80-00b4-45fe-a03a-d570476fe8d9",
    "_uuid": "9a9d9064-810a-4ff5-a6b8-b0ee742f0f38"
   },
   "source": [
    "batch_size=64"
   ]
  },
  {
   "cell_type": "markdown",
   "metadata": {
    "_cell_guid": "c77e5a33-f323-408f-94b4-09b9966b546f",
    "_uuid": "ddeb461b-e7eb-4015-a87e-88c6267b7cd5"
   },
   "source": [
    "class RAdam(keras.optimizers.Optimizer):\n",
    "    \"\"\"RAdam optimizer.\n",
    "    # Arguments\n",
    "        learning_rate: float >= 0. Learning rate.\n",
    "        beta_1: float, 0 < beta < 1. Generally close to 1.\n",
    "        beta_2: float, 0 < beta < 1. Generally close to 1.\n",
    "        epsilon: float >= 0. Fuzz factor. If `None`, defaults to `K.epsilon()`.\n",
    "        decay: float >= 0. Learning rate decay over each update.\n",
    "        weight_decay: float >= 0. Weight decay for each param.\n",
    "        amsgrad: boolean. Whether to apply the AMSGrad variant of this\n",
    "            algorithm from the paper \"On the Convergence of Adam and\n",
    "            Beyond\".\n",
    "        total_steps: int >= 0. Total number of training steps. Enable warmup by setting a positive value.\n",
    "        warmup_proportion: 0 < warmup_proportion < 1. The proportion of increasing steps.\n",
    "        min_lr: float >= 0. Minimum learning rate after warmup.\n",
    "    # References\n",
    "        - [Adam - A Method for Stochastic Optimization](https://arxiv.org/abs/1412.6980v8)\n",
    "        - [On the Convergence of Adam and Beyond](https://openreview.net/forum?id=ryQu7f-RZ)\n",
    "        - [On The Variance Of The Adaptive Learning Rate And Beyond](https://arxiv.org/pdf/1908.03265v1.pdf)\n",
    "    \"\"\"\n",
    "\n",
    "    def __init__(self, learning_rate=0.001, beta_1=0.9, beta_2=0.999,\n",
    "                 epsilon=None, decay=0., weight_decay=0., amsgrad=False,\n",
    "                 total_steps=0, warmup_proportion=0.1, min_lr=0., **kwargs):\n",
    "        learning_rate = kwargs.pop('lr', learning_rate)\n",
    "        super(RAdam, self).__init__(**kwargs)\n",
    "        with K.name_scope(self.__class__.__name__):\n",
    "            self.iterations = K.variable(0, dtype='int64', name='iterations')\n",
    "            self.learning_rate = K.variable(learning_rate, name='learning_rate')\n",
    "            self.beta_1 = K.variable(beta_1, name='beta_1')\n",
    "            self.beta_2 = K.variable(beta_2, name='beta_2')\n",
    "            self.decay = K.variable(decay, name='decay')\n",
    "            self.weight_decay = K.variable(weight_decay, name='weight_decay')\n",
    "            self.total_steps = K.variable(total_steps, name='total_steps')\n",
    "            self.warmup_proportion = K.variable(warmup_proportion, name='warmup_proportion')\n",
    "            self.min_lr = K.variable(min_lr, name='min_lr')\n",
    "        if epsilon is None:\n",
    "            epsilon = K.epsilon()\n",
    "        self.epsilon = epsilon\n",
    "        self.initial_decay = decay\n",
    "        self.initial_weight_decay = weight_decay\n",
    "        self.initial_total_steps = total_steps\n",
    "        self.amsgrad = amsgrad\n",
    "\n",
    "    def get_updates(self, loss, params):\n",
    "        grads = self.get_gradients(loss, params)\n",
    "        self.updates = [K.update_add(self.iterations, 1)]\n",
    "\n",
    "        lr = self.lr\n",
    "\n",
    "        if self.initial_decay > 0:\n",
    "            lr = lr * (1. / (1. + self.decay * K.cast(self.iterations, K.dtype(self.decay))))\n",
    "\n",
    "        t = K.cast(self.iterations, K.floatx()) + 1\n",
    "\n",
    "        if self.initial_total_steps > 0:\n",
    "            warmup_steps = self.total_steps * self.warmup_proportion\n",
    "            decay_steps = K.maximum(self.total_steps - warmup_steps, 1)\n",
    "            decay_rate = (self.min_lr - lr) / decay_steps\n",
    "            lr = K.switch(\n",
    "                t <= warmup_steps,\n",
    "                lr * (t / warmup_steps),\n",
    "                lr + decay_rate * K.minimum(t - warmup_steps, decay_steps),\n",
    "            )\n",
    "\n",
    "        ms = [K.zeros(K.int_shape(p), dtype=K.dtype(p), name='m_' + str(i)) for (i, p) in enumerate(params)]\n",
    "        vs = [K.zeros(K.int_shape(p), dtype=K.dtype(p), name='v_' + str(i)) for (i, p) in enumerate(params)]\n",
    "\n",
    "        if self.amsgrad:\n",
    "            vhats = [K.zeros(K.int_shape(p), dtype=K.dtype(p), name='vhat_' + str(i)) for (i, p) in enumerate(params)]\n",
    "        else:\n",
    "            vhats = [K.zeros(1, name='vhat_' + str(i)) for i in range(len(params))]\n",
    "\n",
    "        self.weights = [self.iterations] + ms + vs + vhats\n",
    "\n",
    "        beta_1_t = K.pow(self.beta_1, t)\n",
    "        beta_2_t = K.pow(self.beta_2, t)\n",
    "\n",
    "        sma_inf = 2.0 / (1.0 - self.beta_2) - 1.0\n",
    "        sma_t = sma_inf - 2.0 * t * beta_2_t / (1.0 - beta_2_t)\n",
    "\n",
    "        for p, g, m, v, vhat in zip(params, grads, ms, vs, vhats):\n",
    "            m_t = (self.beta_1 * m) + (1. - self.beta_1) * g\n",
    "            v_t = (self.beta_2 * v) + (1. - self.beta_2) * K.square(g)\n",
    "\n",
    "            m_corr_t = m_t / (1.0 - beta_1_t)\n",
    "            if self.amsgrad:\n",
    "                vhat_t = K.maximum(vhat, v_t)\n",
    "                v_corr_t = K.sqrt(vhat_t / (1.0 - beta_2_t))\n",
    "                self.updates.append(K.update(vhat, vhat_t))\n",
    "            else:\n",
    "                v_corr_t = K.sqrt(v_t / (1.0 - beta_2_t))\n",
    "\n",
    "            r_t = K.sqrt((sma_t - 4.0) / (sma_inf - 4.0) *\n",
    "                         (sma_t - 2.0) / (sma_inf - 2.0) *\n",
    "                         sma_inf / sma_t)\n",
    "\n",
    "            p_t = K.switch(sma_t >= 5, r_t * m_corr_t / (v_corr_t + self.epsilon), m_corr_t)\n",
    "\n",
    "            if self.initial_weight_decay > 0:\n",
    "                p_t += self.weight_decay * p\n",
    "\n",
    "            p_t = p - lr * p_t\n",
    "\n",
    "            self.updates.append(K.update(m, m_t))\n",
    "            self.updates.append(K.update(v, v_t))\n",
    "            new_p = p_t\n",
    "\n",
    "            # Apply constraints.\n",
    "            if getattr(p, 'constraint', None) is not None:\n",
    "                new_p = p.constraint(new_p)\n",
    "\n",
    "            self.updates.append(K.update(p, new_p))\n",
    "        return self.updates\n",
    "\n",
    "    @property\n",
    "    def lr(self):\n",
    "        return self.learning_rate\n",
    "\n",
    "    @lr.setter\n",
    "    def lr(self, learning_rate):\n",
    "        self.learning_rate = learning_rate\n",
    "\n",
    "    def get_config(self):\n",
    "        config = {\n",
    "            'learning_rate': float(K.get_value(self.learning_rate)),\n",
    "            'beta_1': float(K.get_value(self.beta_1)),\n",
    "            'beta_2': float(K.get_value(self.beta_2)),\n",
    "            'decay': float(K.get_value(self.decay)),\n",
    "            'weight_decay': float(K.get_value(self.weight_decay)),\n",
    "            'epsilon': self.epsilon,\n",
    "            'amsgrad': self.amsgrad,\n",
    "            'total_steps': float(K.get_value(self.total_steps)),\n",
    "            'warmup_proportion': float(K.get_value(self.warmup_proportion)),\n",
    "            'min_lr': float(K.get_value(self.min_lr)),\n",
    "        }\n",
    "        base_config = super(RAdam, self).get_config()\n",
    "        return dict(list(base_config.items()) + list(config.items()))"
   ]
  },
  {
   "cell_type": "markdown",
   "metadata": {
    "_cell_guid": "071a7952-309e-416f-a597-1bb845615e4f",
    "_uuid": "ffeeff25-cf1d-40f8-af23-62a4960721ea"
   },
   "source": [
    "def crps(y_true, y_pred):\n",
    "    return K.mean(K.square(y_true - K.cumsum(y_pred, axis=1)), axis=1)"
   ]
  },
  {
   "cell_type": "markdown",
   "metadata": {
    "_cell_guid": "b334ba39-8196-441d-bbad-4f453fd9f181",
    "_uuid": "b158cbcd-93d4-4274-af66-f004fd813172"
   },
   "source": [
    "def get_model():\n",
    "    x = keras.layers.Input(shape=[X_train.shape[1]])\n",
    "    fc1 = keras.layers.Dense(units=450, input_shape=[X_train.shape[1]])(x)\n",
    "    act1 = keras.layers.PReLU()(fc1)\n",
    "    bn1 = keras.layers.BatchNormalization()(act1)\n",
    "    dp1 = keras.layers.Dropout(0.55)(bn1)\n",
    "    concat1 = keras.layers.Concatenate()([x, dp1])\n",
    "    fc2 = keras.layers.Dense(units=600)(concat1)\n",
    "    act2 = keras.layers.PReLU()(fc2)\n",
    "    bn2 = keras.layers.BatchNormalization()(act2)\n",
    "    dp2 = keras.layers.Dropout(0.55)(bn2)\n",
    "    concat2 = keras.layers.Concatenate()([concat1, dp2])\n",
    "    fc3 = keras.layers.Dense(units=400)(concat2)\n",
    "    act3 = keras.layers.PReLU()(fc3)\n",
    "    bn3 = keras.layers.BatchNormalization()(act3)\n",
    "    dp3 = keras.layers.Dropout(0.55)(bn3)\n",
    "    concat3 = keras.layers.Concatenate([concat2, dp3])\n",
    "    output = keras.layers.Dense(units=199, activation='softmax')(concat2)\n",
    "    model = keras.models.Model(inputs=[x], outputs=[output])\n",
    "    return model\n",
    "\n",
    "\n",
    "def train_model(X_train, y_train, X_val, y_val):\n",
    "    model = get_model()\n",
    "    model.compile(optimizer=RAdam(warmup_proportion=0.1, min_lr=1e-7), loss=crps)\n",
    "    er = EarlyStopping(patience=20, min_delta=1e-4, restore_best_weights=True, monitor='val_loss')\n",
    "    model.fit(X_train, y_train, epochs=200, callbacks=[er], validation_data=[X_val, y_val], batch_size=batch_size)\n",
    "    return model"
   ]
  },
  {
   "cell_type": "markdown",
   "metadata": {
    "_cell_guid": "ed97cff7-622a-44c4-9b60-e78025a29183",
    "_uuid": "d08a6763-a5b0-48b2-a669-f55493a8bd68"
   },
   "source": [
    "from sklearn.model_selection import RepeatedKFold\n",
    "\n",
    "rkf = RepeatedKFold(n_splits=4, n_repeats=6)\n",
    "\n",
    "models = []\n",
    "\n",
    "for tr_idx, vl_idx in rkf.split(X_train, y_train):\n",
    "    \n",
    "    x_tr, y_tr = X_train[tr_idx], y_train[tr_idx]\n",
    "    x_vl, y_vl = X_train[vl_idx], y_train[vl_idx]\n",
    "    \n",
    "    model = train_model(x_tr, y_tr, x_vl, y_vl)\n",
    "    models.append(model)"
   ]
  },
  {
   "cell_type": "code",
   "execution_count": null,
   "metadata": {
    "_cell_guid": "452992db-53ef-48c5-b6ae-69701828795d",
    "_uuid": "0cc26ceb-2d89-4c00-acbc-ba6017ec9ce8"
   },
   "outputs": [],
   "source": []
  },
  {
   "cell_type": "code",
   "execution_count": null,
   "metadata": {
    "_cell_guid": "37e9bc68-92f8-42fd-93c9-687fc51b9bec",
    "_uuid": "2d649a3a-42c2-4259-b49b-46cbe665b07d"
   },
   "outputs": [],
   "source": []
  },
  {
   "cell_type": "code",
   "execution_count": null,
   "metadata": {
    "_cell_guid": "ec5dd9a9-576e-4107-a062-8c70b4c2ca84",
    "_uuid": "50a07e6f-6db8-497a-b978-b1756fc053cc"
   },
   "outputs": [],
   "source": []
  },
  {
   "cell_type": "code",
   "execution_count": null,
   "metadata": {
    "_cell_guid": "5c53e220-5183-4ab3-b909-1af55b631216",
    "_uuid": "033ef5b3-e90b-457d-89dd-7559e2497d44"
   },
   "outputs": [],
   "source": []
  },
  {
   "cell_type": "code",
   "execution_count": null,
   "metadata": {
    "_cell_guid": "c0c2f4ca-a764-4e32-ae79-5ce11e4180ad",
    "_uuid": "07325be2-0e97-474d-9fb6-144efe06f447"
   },
   "outputs": [],
   "source": []
  }
 ],
 "metadata": {
  "kernelspec": {
   "display_name": "Python 3",
   "language": "python",
   "name": "python3"
  },
  "language_info": {
   "codemirror_mode": {
    "name": "ipython",
    "version": 3
   },
   "file_extension": ".py",
   "mimetype": "text/x-python",
   "name": "python",
   "nbconvert_exporter": "python",
   "pygments_lexer": "ipython3",
   "version": "3.7.4"
  }
 },
 "nbformat": 4,
 "nbformat_minor": 1
}
